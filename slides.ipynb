{
 "cells": [
  {
   "cell_type": "markdown",
   "metadata": {
    "slideshow": {
     "slide_type": "slide"
    }
   },
   "source": [
    "# Git, a crash course\n",
    "\n",
    "### John Kirkham"
   ]
  },
  {
   "cell_type": "markdown",
   "metadata": {
    "slideshow": {
     "slide_type": "slide"
    }
   },
   "source": [
    "# The Problem\n",
    "\n",
    "* Multiple copies of the same codebase in different folders.\n",
    "* Each features various modifications.\n",
    "* Difficult to keep them in sync.\n",
    "* Challenging to remember what changes and why they were made.\n",
    "* How could this be done better?"
   ]
  },
  {
   "cell_type": "markdown",
   "metadata": {
    "slideshow": {
     "slide_type": "slide"
    }
   },
   "source": [
    "# Version Control\n",
    "\n",
    "* What changed in the past?\n",
    "* When did it change?\n",
    "* Why did it change?\n",
    "* What is changing now?\n",
    "* How can our changes be merged?"
   ]
  },
  {
   "cell_type": "markdown",
   "metadata": {
    "slideshow": {
     "slide_type": "slide"
    }
   },
   "source": [
    "# What is essential about Git?\n",
    "\n",
    "* Locality – Works on our computer w/o web.\n",
    "* Integrity – All changes are tracked.\n",
    "* Branching – Multiple storylines.\n",
    "* Distribution – Can share our work with others."
   ]
  },
  {
   "cell_type": "markdown",
   "metadata": {
    "slideshow": {
     "slide_type": "slide"
    }
   },
   "source": [
    "# Starting with Git (Part 1 of 2)\n",
    "\n",
    "* Open a terminal. Create a new directory and change to it.\n",
    "\n",
    "```\n",
    "mkdir test\n",
    "cd test\n",
    "```\n",
    "\n",
    "* Open the directory in a new window.\n",
    "  - Mac: `open .`\n",
    "  - Windows: `explorer .`\n",
    "  - Linux: `nautilus .`\n"
   ]
  }
 ],
 "metadata": {
  "celltoolbar": "Slideshow",
  "kernelspec": {
   "display_name": "Python 2",
   "language": "python",
   "name": "python2"
  },
  "language_info": {
   "codemirror_mode": {
    "name": "ipython",
    "version": 2
   },
   "file_extension": ".py",
   "mimetype": "text/x-python",
   "name": "python",
   "nbconvert_exporter": "python",
   "pygments_lexer": "ipython2",
   "version": "2.7.10"
  }
 },
 "nbformat": 4,
 "nbformat_minor": 0
}
