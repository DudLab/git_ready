{
 "cells": [
  {
   "cell_type": "markdown",
   "metadata": {
    "slideshow": {
     "slide_type": "slide"
    }
   },
   "source": [
    "# Git, a crash course\n",
    "\n",
    "### John Kirkham"
   ]
  },
  {
   "cell_type": "markdown",
   "metadata": {
    "slideshow": {
     "slide_type": "slide"
    }
   },
   "source": [
    "# The Problem\n",
    "\n",
    "* Multiple copies of the same codebase in different folders.\n",
    "* Each features various modifications.\n",
    "* Difficult to keep them in sync.\n",
    "* Challenging to remember what changes and why they were made.\n",
    "* How could this be done better?"
   ]
  },
  {
   "cell_type": "markdown",
   "metadata": {
    "slideshow": {
     "slide_type": "slide"
    }
   },
   "source": [
    "# Version Control\n",
    "\n",
    "* What changed in the past?\n",
    "* When did it change?\n",
    "* Why did it change?\n",
    "* What is changing now?\n",
    "* How can our changes be merged?"
   ]
  },
  {
   "cell_type": "markdown",
   "metadata": {
    "slideshow": {
     "slide_type": "slide"
    }
   },
   "source": [
    "# What is essential about Git?\n",
    "\n",
    "* Locality – Works on our computer w/o web.\n",
    "* Integrity – All changes are tracked.\n",
    "* Branching – Multiple storylines.\n",
    "* Distribution – Can share our work with others."
   ]
  },
  {
   "cell_type": "markdown",
   "metadata": {
    "slideshow": {
     "slide_type": "slide"
    }
   },
   "source": [
    "# Starting with Git (Part 1 of 2)\n",
    "\n",
    "* Open a terminal. Create a new directory and change to it.\n",
    "\n",
    "```\n",
    "mkdir test\n",
    "cd test\n",
    "```\n",
    "\n",
    "* Open the directory in a new window.\n",
    "  - Mac: `open .`\n",
    "  - Windows: `explorer .`\n",
    "  - Linux: `nautilus .`\n"
   ]
  },
  {
   "cell_type": "markdown",
   "metadata": {
    "slideshow": {
     "slide_type": "slide"
    }
   },
   "source": [
    "# Starting with Git (Part 2 of 2)\n",
    "\n",
    "* Make this directory a git repo.\n",
    "\n",
    "```\n",
    "git init\n",
    "```\n",
    "\n",
    "* Should see something like this\n",
    "\n",
    "```\n",
    "Initialized empty Git repository in /Users/kirkhamj/test/.git/\n",
    "```\n",
    "\n",
    "* Open gitk. (Should be empty)\n",
    "\n",
    "```\n",
    "gitk --all &\n",
    "```\n",
    "\n",
    "* Try getting the repo status.\n",
    "\n",
    "```\n",
    "git status\n",
    "```\n",
    "\n",
    "* Should see something like the following.\n",
    "\n",
    "```\n",
    "# On branch master\n",
    "#\n",
    "# Initial commit\n",
    "#\n",
    "nothing to commit (create/copy files and use \"git add\" to track)\n",
    "```\n",
    "\n",
    "* This is what we call a clean repo. Note we default to the master branch."
   ]
  },
  {
   "cell_type": "markdown",
   "metadata": {
    "slideshow": {
     "slide_type": "slide"
    }
   },
   "source": [
    "# What is essential about Git?\n",
    "\n",
    "* ~~Locality – Works on our computer w/o web.~~\n",
    "* Integrity – All changes are tracked.\n",
    "* Branching – Multiple storylines.\n",
    "* Distribution – Can share our work with others."
   ]
  },
  {
   "cell_type": "markdown",
   "metadata": {
    "slideshow": {
     "slide_type": "slide"
    }
   },
   "source": [
    "# Example working with files in Git (Part 1 of 5)\n",
    "\n",
    "* Create an empty file for use with git.\n",
    "\n",
    "```\n",
    "touch test1.txt\n",
    "```\n",
    "\n",
    "* See what changed in git.\n",
    "\n",
    "```\n",
    "git status\n",
    "```\n",
    "\n",
    "* Should look like this\n",
    "\n",
    "```\n",
    "# On branch master\n",
    "#\n",
    "# Initial commit\n",
    "#\n",
    "# Untracked files:\n",
    "#   (use \"git add <file>...\" to include in what will be committed)\n",
    "#\n",
    "#\ttest1.txt\n",
    "nothing added to commit but untracked files present (use \"git add\" to track)\n",
    "```\n",
    "\n",
    "* No longer a clean repo. Note that we haven’t told it which files to track so it won’t notice any changes to them."
   ]
  },
  {
   "cell_type": "markdown",
   "metadata": {
    "slideshow": {
     "slide_type": "subslide"
    }
   },
   "source": [
    "![file_lifecycle_0](./images/file_lifecycle_0.svg)"
   ]
  },
  {
   "cell_type": "markdown",
   "metadata": {
    "slideshow": {
     "slide_type": "slide"
    }
   },
   "source": [
    "# Example working with files in Git (Part 2 of 5)\n",
    "\n",
    "* Add one file to be tracked like so.\n",
    "\n",
    "```\n",
    "git add test1.txt\n",
    "```\n",
    "\n",
    "* See what changed.\n",
    "\n",
    "```\n",
    "git status\n",
    "```\n",
    "\n",
    "* Should look like this.\n",
    "\n",
    "```\n",
    "# On branch master\n",
    "#\n",
    "# Initial commit\n",
    "#\n",
    "# Changes to be committed:\n",
    "#   (use \"git rm --cached <file>...\" to unstage)\n",
    "#\n",
    "#\tnew file:   test1.txt\n",
    "```\n",
    "\n",
    "* We have now added a file to the staging area."
   ]
  },
  {
   "cell_type": "markdown",
   "metadata": {
    "collapsed": true,
    "slideshow": {
     "slide_type": "subslide"
    }
   },
   "source": [
    "![file_lifecycle_1](./images/file_lifecycle_1.svg)"
   ]
  },
  {
   "cell_type": "markdown",
   "metadata": {
    "slideshow": {
     "slide_type": "slide"
    }
   },
   "source": [
    "# Example working with files in Git (Part 3 of 5)\n",
    "\n",
    "* Commit the change with some message.\n",
    "\n",
    "```\n",
    "git commit -m \"test1.txt: Added the empty file to be tracked.\"\n",
    "```\n",
    "\n",
    "* Get this output.\n",
    "\n",
    "```\n",
    "master (root-commit) 15c4069] test1.txt: Added the empty file to be tracked.\n",
    " 1 file changed, 0 insertions(+), 0 deletions(-)\n",
    " create mode 100644 test1.txt\n",
    "```\n",
    "\n",
    "* See what changed. Also check gitk (may need to reload).\n",
    "\n",
    "```\n",
    "git status\n",
    "```\n",
    "\n",
    "* Should look like this.\n",
    "\n",
    "```\n",
    "# On branch master\n",
    "nothing to commit, working directory clean\n",
    "We now have clean working directory, but have added one commit.\n",
    "```"
   ]
  },
  {
   "cell_type": "markdown",
   "metadata": {
    "collapsed": true,
    "slideshow": {
     "slide_type": "subslide"
    }
   },
   "source": [
    "![file_lifecycle_2](./images/file_lifecycle_2.svg)"
   ]
  },
  {
   "cell_type": "markdown",
   "metadata": {
    "slideshow": {
     "slide_type": "slide"
    }
   },
   "source": [
    "# Example working with files in Git (Part 4 of 5)\n",
    "\n",
    "* Edit test1.txt with some text editor.\n",
    "* See what changed.\n",
    "\n",
    "```\n",
    "git status\n",
    "```\n",
    "\n",
    "* Should look like this.\n",
    "```\n",
    "# On branch master\n",
    "# Changes not staged for commit:\n",
    "#   (use \"git add <file>...\" to update what will be committed)\n",
    "#   (use \"git checkout -- <file>...\" to discard changes in working directory)\n",
    "#\n",
    "#\tmodified:   test1.txt\n",
    "#\n",
    "no changes added to commit (use \"git add\" and/or \"git commit -a\")\n",
    "```\n",
    "\n",
    "* Our working directory is no longer clean, but we don’t have any untracked files. We only have changes to a tracked file."
   ]
  },
  {
   "cell_type": "markdown",
   "metadata": {
    "collapsed": true,
    "slideshow": {
     "slide_type": "subslide"
    }
   },
   "source": [
    "![file_lifecycle_3](./images/file_lifecycle_3.svg)"
   ]
  },
  {
   "cell_type": "markdown",
   "metadata": {
    "slideshow": {
     "slide_type": "slide"
    }
   },
   "source": [
    "# Example working with files in Git (Part 5 of 5)\n",
    "\n",
    "* Add these changes to git and check our status\n",
    "\n",
    "```\n",
    "git add test1.txt\n",
    "git status\n",
    "```\n",
    "\n",
    "* Should see something like this.\n",
    "\n",
    "```\n",
    "On branch master\n",
    "Changes to be committed:\n",
    "  (use \"git reset HEAD <file>...\" to unstage)\n",
    "\n",
    "\tmodified:   test1.txt\n",
    "```\n",
    "\n",
    "* These changes have been staged. Go ahead and commit them. Check the status to make sure our repo is clean. Also, take a look at gitk again.\n",
    "\n",
    "```\n",
    "git commit -m \"test1.txt: Added some text.\"\n",
    "```\n",
    "\n",
    "* Get this output.\n",
    "\n",
    "```\n",
    "[master d3414e0] test1.txt: Added some text.\n",
    " 1 file changed, 1 insertion(+)\n",
    "```\n",
    "\n",
    "* See what changed. Check gitk.\n",
    "\n",
    "```\n",
    "git status\n",
    "```\n",
    "\n",
    "* Should look like this.\n",
    "\n",
    "```\n",
    "# On branch master\n",
    "nothing to commit, working directory clean\n",
    "```\n",
    "\n",
    "* Work directory is again clean."
   ]
  },
  {
   "cell_type": "markdown",
   "metadata": {
    "collapsed": true,
    "slideshow": {
     "slide_type": "subslide"
    }
   },
   "source": [
    "![file_lifecycle_4](./images/file_lifecycle_4.svg)"
   ]
  },
  {
   "cell_type": "markdown",
   "metadata": {
    "slideshow": {
     "slide_type": "slide"
    }
   },
   "source": [
    "# More about using files in Git\n",
    "\n",
    "* What if we need to make changes after we have already added?\n",
    "* Just add again.\n",
    "\n",
    "<br>\n",
    "* What about adding multiple files?\n",
    "* No problem. Just tack on more file names after add.\n",
    "\n",
    "<br>\n",
    "* Tired of adding every time. This will add and commit all changes from tracked files.\n",
    "```\n",
    "git commit -a -m \"Added files.\"\n",
    "```"
   ]
  },
  {
   "cell_type": "markdown",
   "metadata": {
    "slideshow": {
     "slide_type": "slide"
    }
   },
   "source": [
    "# What is essential about Git?\n",
    "\n",
    "* ~~Locality – Works on our computer w/o web.~~\n",
    "* ~~Integrity – All changes are tracked.~~\n",
    "* Branching – Multiple storylines.\n",
    "* Distribution – Can share our work with others."
   ]
  },
  {
   "cell_type": "markdown",
   "metadata": {
    "slideshow": {
     "slide_type": "slide"
    }
   },
   "source": [
    "# New Features\n",
    "\n",
    "* Takes some work to complete.\n",
    "* May not work right away.\n",
    "* Should be separate from working code.\n",
    "* Eventually want to add to existing code."
   ]
  },
  {
   "cell_type": "markdown",
   "metadata": {
    "slideshow": {
     "slide_type": "slide"
    }
   },
   "source": [
    "# New Features\n",
    "\n",
    "* Takes some work to complete.\n",
    "* May not work right away.\n",
    "* Should be separate from working code.\n",
    "* Eventually want to add to existing code.\n",
    "\n",
    "<br>\n",
    "* Use a branch!"
   ]
  },
  {
   "cell_type": "markdown",
   "metadata": {
    "slideshow": {
     "slide_type": "slide"
    }
   },
   "source": [
    "# Branches in git\n",
    "\n",
    "* Just points to a commit.\n",
    "* Can have many branches.\n",
    "* The default branch is master.\n",
    "* Current branch moves as we commit."
   ]
  },
  {
   "cell_type": "markdown",
   "metadata": {
    "slideshow": {
     "slide_type": "slide"
    }
   },
   "source": [
    "# Example working with branches in Git (Part 1 of 8)\n",
    "\n",
    "* Check what branch we are on.\n",
    "\n",
    "```\n",
    "git branch\n",
    "```\n",
    "\n",
    "* Result looks like this.\n",
    "\n",
    "```\n",
    "* master\n",
    "```\n",
    "\n",
    "* Get more detail about our branch.\n",
    "\n",
    "```\n",
    "git branch -v\n",
    "```\n",
    "\n",
    "* Result looks like this.\n",
    "\n",
    "```\n",
    "* master d3414e0 test1.txt: Added some text.\n",
    "```\n",
    "\n",
    "* Check gitk also."
   ]
  },
  {
   "cell_type": "markdown",
   "metadata": {
    "collapsed": true,
    "slideshow": {
     "slide_type": "subslide"
    }
   },
   "source": [
    "![git_graph_0](./images/git_graph_0.svg)"
   ]
  },
  {
   "cell_type": "markdown",
   "metadata": {
    "slideshow": {
     "slide_type": "slide"
    }
   },
   "source": [
    "# Example working with branches in Git (Part 2 of 8)\n",
    "\n",
    "* Create a new branch. Check what happened.\n",
    "\n",
    "```\n",
    "git branch wip\n",
    "git branch\n",
    "```\n",
    "\n",
    "* Result looks like this.\n",
    "\n",
    "```\n",
    "* master\n",
    "  wip\n",
    "```\n",
    "\n",
    "* Get more detail about our branch.\n",
    "\n",
    "```\n",
    "git branch -v\n",
    "```\n",
    "\n",
    "* Result looks like this.\n",
    "\n",
    "```\n",
    "* master d3414e0 test1.txt: Added some text.\n",
    "  wip    d3414e0 test1.txt: Added some text.\n",
    "```\n",
    "\n",
    "* Check gitk also."
   ]
  },
  {
   "cell_type": "markdown",
   "metadata": {
    "collapsed": true,
    "slideshow": {
     "slide_type": "subslide"
    }
   },
   "source": [
    "![git_graph_1](./images/git_graph_1.svg)"
   ]
  },
  {
   "cell_type": "markdown",
   "metadata": {
    "slideshow": {
     "slide_type": "slide"
    }
   },
   "source": [
    "# Example working with branches in Git (Part 3 of 8)\n",
    "\n",
    "* Change branches. Check what happened.\n",
    "\n",
    "```\n",
    "git checkout wip\n",
    "```\n",
    "\n",
    "* See this.\n",
    "\n",
    "```\n",
    "Switched to branch 'wip’\n",
    "```\n",
    "\n",
    "* Look at our branches.\n",
    "\n",
    "```\n",
    "git branch\n",
    "```\n",
    "\n",
    "* Result looks like this.\n",
    "\n",
    "```\n",
    " master\n",
    "* wip\n",
    "```\n",
    "\n",
    "* Get more detail about our branch.\n",
    "\n",
    "```\n",
    "git branch -v\n",
    "```\n",
    "\n",
    "* Result looks like this.\n",
    "\n",
    "```\n",
    "  master d3414e0 test1.txt: Added some text.\n",
    "* wip    d3414e0 test1.txt: Added some text.\n",
    "```\n",
    "\n",
    "* List the files.\n",
    "\n",
    "```\n",
    "ls\n",
    "```\n",
    "\n",
    "* See this result.\n",
    "\n",
    "```\n",
    "test1.txt\n",
    "```\n",
    "\n",
    "* Check gitk also."
   ]
  },
  {
   "cell_type": "markdown",
   "metadata": {
    "collapsed": true,
    "slideshow": {
     "slide_type": "subslide"
    }
   },
   "source": [
    "![git_graph_2](./images/git_graph_2.svg)"
   ]
  },
  {
   "cell_type": "markdown",
   "metadata": {
    "slideshow": {
     "slide_type": "slide"
    }
   },
   "source": [
    "# Example working with branches in Git (Part 4 of 8)\n",
    "\n",
    "* Add a new file. Stage it and commit it.\n",
    "\n",
    "```\n",
    "touch test2.txt\n",
    "git add test2.txt\n",
    "git commit -m \"test2.txt: Add another text file.\n",
    "```\n",
    "\n",
    "* See this.\n",
    "\n",
    "```\n",
    "[wip ffcd359] test2.txt: Add another text file.\n",
    " 1 file changed, 0 insertions(+), 0 deletions(-)\n",
    " create mode 100644 test2.txt\n",
    "```\n",
    "\n",
    "* Look at our branches.\n",
    "\n",
    "```\n",
    "git branch -v\n",
    "```\n",
    "\n",
    "* Result looks like this.\n",
    "\n",
    "```\n",
    "  master d3414e0 test1.txt: Added some text.\n",
    "* wip    ffcd359 test2.txt: Add another text file.\n",
    "```\n",
    "\n",
    "* Check gitk also."
   ]
  },
  {
   "cell_type": "markdown",
   "metadata": {
    "collapsed": true,
    "slideshow": {
     "slide_type": "subslide"
    }
   },
   "source": [
    "![git_graph_3](./images/git_graph_3.svg)"
   ]
  },
  {
   "cell_type": "markdown",
   "metadata": {
    "slideshow": {
     "slide_type": "slide"
    }
   },
   "source": [
    "# Example working with branches in Git (Part 5 of 8)\n",
    "\n",
    "* Return to master and create a new branch, which we switch to.\n",
    "\n",
    "```\n",
    "git checkout master\n",
    "git branch temp\n",
    "git checkout temp\n",
    "```\n",
    "\n",
    "* List the files.\n",
    "\n",
    "```\n",
    "ls\n",
    "```\n",
    "\n",
    "* Result should look like this.\n",
    "\n",
    "```\n",
    "test1.txt\n",
    "```\n",
    "\n",
    "* Add a new file. Stage it and commit it.\n",
    "\n",
    "```\n",
    "touch test3.txt\n",
    "git add test3.txt\n",
    "git commit -m \"test3.txt: Add a third text file.\"\n",
    "```\n",
    "\n",
    "* Look at our branches.\n",
    "\n",
    "```\n",
    "git branch -v\n",
    "```\n",
    "\n",
    "* Result looks like this.\n",
    "\n",
    "```\n",
    "  master d3414e0 test1.txt: Added some text.\n",
    "* temp   4565870 test3.txt: Add a third text file.\n",
    "  wip    ffcd359 test2.txt: Add another text file.\n",
    "```\n",
    "\n",
    "* Check gitk also."
   ]
  },
  {
   "cell_type": "markdown",
   "metadata": {
    "collapsed": true,
    "slideshow": {
     "slide_type": "subslide"
    }
   },
   "source": [
    "![git_graph_4](./images/git_graph_4.svg)"
   ]
  },
  {
   "cell_type": "markdown",
   "metadata": {
    "slideshow": {
     "slide_type": "slide"
    }
   },
   "source": [
    "# Example working with branches in Git (Part 6 of 8)\n",
    "\n",
    "* Combine our work from before.\n",
    "\n",
    "```\n",
    "git merge --no-edit wip\n",
    "```\n",
    "\n",
    "* See this output.\n",
    "\n",
    "```\n",
    "Merge made by the 'recursive' strategy.\n",
    " test2.txt | 0\n",
    " 1 file changed, 0 insertions(+), 0 deletions(-)\n",
    " create mode 100644 test2.txt\n",
    "```\n",
    "\n",
    "* Look at our branches.\n",
    "\n",
    "```\n",
    "git branch -v\n",
    "```\n",
    "\n",
    "* Result looks like this.\n",
    "\n",
    "```\n",
    "  master d3414e0 test1.txt: Added some text.\n",
    "* temp   a0efeb5 Merge branch 'wip' into temp\n",
    "  wip    ffcd359 test2.txt: Add another text file.\n",
    "```\n",
    "\n",
    "* List the files.\n",
    "\n",
    "```\n",
    "ls\n",
    "```\n",
    "\n",
    "* See this result.\n",
    "\n",
    "```\n",
    "test1.txt test2.txt test3.txt\n",
    "```\n",
    "\n",
    "* Check gitk also."
   ]
  },
  {
   "cell_type": "markdown",
   "metadata": {
    "slideshow": {
     "slide_type": "subslide"
    }
   },
   "source": [
    "![git_graph_5](./images/git_graph_5.svg)"
   ]
  },
  {
   "cell_type": "markdown",
   "metadata": {
    "slideshow": {
     "slide_type": "slide"
    }
   },
   "source": [
    "# Example working with branches in Git (Part 7 of 8)\n",
    "\n",
    "* Switch to master.\n",
    "\n",
    "```\n",
    "git checkout master\n",
    "```\n",
    "\n",
    "* List the files.\n",
    "\n",
    "```\n",
    "ls\n",
    "```\n",
    "\n",
    "* See the result.\n",
    "\n",
    "```\n",
    "test1.txt\n",
    "```\n",
    "\n",
    "* Move master up.\n",
    "\n",
    "```\n",
    "git merge --no-edit temp\n",
    "```\n",
    "\n",
    "* See this output.\n",
    "\n",
    "```\n",
    "Updating d3414e0..a0efeb5\n",
    "Fast-forward\n",
    " test2.txt | 0\n",
    " test3.txt | 0\n",
    " 2 files changed, 0 insertions(+), 0 deletions(-)\n",
    " create mode 100644 test2.txt\n",
    " create mode 100644 test3.txt\n",
    "```\n",
    "\n",
    "* Look at our branches.\n",
    "\n",
    "```\n",
    "git branch -v\n",
    "```\n",
    "\n",
    "* Result looks like this.\n",
    "\n",
    "```\n",
    "* master a0efeb5 Merge branch 'wip' into temp\n",
    "  temp   a0efeb5 Merge branch 'wip' into temp\n",
    "  wip    ffcd359 test2.txt: Add another text file.\n",
    "```\n",
    "\n",
    "* List the files\n",
    "\n",
    "```\n",
    "ls\n",
    "```\n",
    "\n",
    "* See this result.\n",
    "\n",
    "```\n",
    "test1.txt test2.txt test3.txt\n",
    "```\n",
    "\n",
    "* Check gitk also."
   ]
  },
  {
   "cell_type": "markdown",
   "metadata": {
    "slideshow": {
     "slide_type": "subslide"
    }
   },
   "source": [
    "![git_graph_6](./images/git_graph_6.svg)"
   ]
  },
  {
   "cell_type": "markdown",
   "metadata": {
    "slideshow": {
     "slide_type": "slide"
    }
   },
   "source": [
    "# Example working with branches in Git (Part 8 of 8)\n",
    "\n",
    "* Remove wip as it is no longer needed.\n",
    "\n",
    "```\n",
    "git branch -d wip\n",
    "```\n",
    "\n",
    "* See this output.\n",
    "\n",
    "```\n",
    "Deleted branch wip (was ffcd359)\n",
    "```\n",
    "\n",
    "* Remove temp as it is no longer needed.\n",
    "\n",
    "```\n",
    "git branch -d temp\n",
    "```\n",
    "\n",
    "* See this output.\n",
    "\n",
    "```\n",
    "Deleted branch temp (was 456870)\n",
    "```\n",
    "\n",
    "* Look at our branches.\n",
    "\n",
    "```\n",
    "git branch -v\n",
    "```\n",
    "\n",
    "* Result looks like this.\n",
    "\n",
    "```\n",
    "* master a0efeb5 Merge branch 'wip' into temp\n",
    "```\n",
    "\n",
    "* Check gitk also."
   ]
  },
  {
   "cell_type": "markdown",
   "metadata": {
    "slideshow": {
     "slide_type": "subslide"
    }
   },
   "source": [
    "![git_graph_7](./images/git_graph_7.svg)"
   ]
  },
  {
   "cell_type": "markdown",
   "metadata": {
    "slideshow": {
     "slide_type": "slide"
    }
   },
   "source": [
    "# Working with commits in Git\n",
    "\n",
    "![repo_lifecycle_0](./images/repo_lifecycle_0.svg)"
   ]
  },
  {
   "cell_type": "markdown",
   "metadata": {
    "slideshow": {
     "slide_type": "slide"
    }
   },
   "source": [
    "# What is essential about Git?\n",
    "\n",
    "* ~~Locality – Works on our computer w/o web.~~\n",
    "* ~~Integrity – All changes are tracked.~~\n",
    "* ~~Branching – Multiple storylines.~~\n",
    "* Distribution – Can share our work with others."
   ]
  },
  {
   "cell_type": "markdown",
   "metadata": {
    "slideshow": {
     "slide_type": "slide"
    }
   },
   "source": [
    "# Collaborating with Git (Part 1 of 3)\n",
    "\n",
    "* How do we share these changes with other people?\n",
    "* Create a repo on GitHub.\n",
    "* Add a remote.\n",
    "\n",
    "```\n",
    "git remote add origin <url>\n",
    "```\n",
    "\n",
    "* Push the changes to GitHub (`-u` sets upstream). Updates master branch on origin.\n",
    "\n",
    "```\n",
    "git push -u origin master\n",
    "```"
   ]
  },
  {
   "cell_type": "markdown",
   "metadata": {
    "collapsed": true,
    "slideshow": {
     "slide_type": "subslide"
    }
   },
   "source": [
    "![repo_lifecycle_1](./images/repo_lifecycle_1.svg)"
   ]
  },
  {
   "cell_type": "markdown",
   "metadata": {
    "slideshow": {
     "slide_type": "slide"
    }
   },
   "source": [
    "# Collaborating with Git (Part 2 of 3)\n",
    "\n",
    "* How do we get changes from the remote?\n",
    "\n",
    "```\n",
    "git fetch origin\n",
    "```\n",
    "\n",
    "* How do we bring those changes into the working directory?\n",
    "\n",
    "```\n",
    "git pull origin master\n",
    "```"
   ]
  },
  {
   "cell_type": "markdown",
   "metadata": {
    "collapsed": true,
    "slideshow": {
     "slide_type": "subslide"
    }
   },
   "source": [
    "![repo_lifecycle_2](./images/repo_lifecycle_2.svg)"
   ]
  },
  {
   "cell_type": "markdown",
   "metadata": {
    "slideshow": {
     "slide_type": "slide"
    }
   },
   "source": [
    "# Collaborating with Git (Part 3 of 3)\n",
    "\n",
    "* How do we get someone else’s repo?\n",
    "* If we don’t already have it, clone it.\n",
    "\n",
    "```\n",
    "git clone <url>\n",
    "```\n",
    "\n",
    "* If we already have a repo, add a new remote and fetch/pull as needed.\n",
    "\n",
    "```\n",
    "git remote add upstream <url>\n",
    "git fetch upstream\n",
    "git pull upstream master\n",
    "```"
   ]
  },
  {
   "cell_type": "markdown",
   "metadata": {
    "slideshow": {
     "slide_type": "slide"
    }
   },
   "source": [
    "# Additional Resources\n",
    "\n",
    "* Some more practice ( <https://try.github.io/> ).\n",
    "* Get information about a command.\n",
    "\n",
    "```\n",
    "git <cmd> --help\n",
    "```\n",
    "\n",
    "* Same info with nicer layout online ( <http://git-scm.com/docs/> ).\n",
    "* The git book ( <https://git-scm.com/book/en/v2> ).\n",
    "* Existing questions normally with answers ( <http://stackoverflow.com/tags/git/info> )."
   ]
  },
  {
   "cell_type": "code",
   "execution_count": 1,
   "metadata": {
    "collapsed": false,
    "slideshow": {
     "slide_type": "skip"
    }
   },
   "outputs": [
    {
     "data": {
      "text/html": [
       "<style>\n",
       "    .reveal section.present:not(.stack) {\n",
       "        max-height: 65vh;\n",
       "        overflow-y: hidden;\n",
       "    }\n",
       "    .reveal section.present:not(.stack):hover {\n",
       "        overflow-y: auto;\n",
       "    }\n",
       "</style>"
      ],
      "text/plain": [
       "<IPython.core.display.HTML object>"
      ]
     },
     "metadata": {},
     "output_type": "display_data"
    }
   ],
   "source": [
    "%%html\n",
    "<style>\n",
    "    .reveal section.present:not(.stack) {\n",
    "        max-height: 65vh;\n",
    "        overflow-y: hidden;\n",
    "    }\n",
    "    .reveal section.present:not(.stack):hover {\n",
    "        overflow-y: auto;\n",
    "    }\n",
    "</style>"
   ]
  }
 ],
 "metadata": {
  "celltoolbar": "Slideshow",
  "kernelspec": {
   "display_name": "Python 2",
   "language": "python",
   "name": "python2"
  },
  "language_info": {
   "codemirror_mode": {
    "name": "ipython",
    "version": 2
   },
   "file_extension": ".py",
   "mimetype": "text/x-python",
   "name": "python",
   "nbconvert_exporter": "python",
   "pygments_lexer": "ipython2",
   "version": "2.7.10"
  }
 },
 "nbformat": 4,
 "nbformat_minor": 0
}
