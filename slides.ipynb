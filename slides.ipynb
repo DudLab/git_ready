{
 "cells": [
  {
   "cell_type": "markdown",
   "metadata": {
    "slideshow": {
     "slide_type": "slide"
    }
   },
   "source": [
    "# Git, a crash course\n",
    "\n",
    "### John Kirkham"
   ]
  },
  {
   "cell_type": "markdown",
   "metadata": {
    "slideshow": {
     "slide_type": "slide"
    }
   },
   "source": [
    "# The Problem\n",
    "\n",
    "* Multiple copies of the same codebase in different folders.\n",
    "* Each features various modifications.\n",
    "* Difficult to keep them in sync.\n",
    "* Challenging to remember what changes and why they were made.\n",
    "* How could this be done better?"
   ]
  },
  {
   "cell_type": "markdown",
   "metadata": {
    "slideshow": {
     "slide_type": "slide"
    }
   },
   "source": [
    "# Version Control\n",
    "\n",
    "* What changed in the past?\n",
    "* When did it change?\n",
    "* Why did it change?\n",
    "* What is changing now?\n",
    "* How can our changes be merged?"
   ]
  },
  {
   "cell_type": "markdown",
   "metadata": {
    "slideshow": {
     "slide_type": "slide"
    }
   },
   "source": [
    "# What is essential about Git?\n",
    "\n",
    "* Locality – Works on our computer w/o web.\n",
    "* Integrity – All changes are tracked.\n",
    "* Branching – Multiple storylines.\n",
    "* Distribution – Can share our work with others."
   ]
  },
  {
   "cell_type": "markdown",
   "metadata": {
    "slideshow": {
     "slide_type": "slide"
    }
   },
   "source": [
    "# Starting with Git (Part 1 of 2)\n",
    "\n",
    "* Open a terminal. Create a new directory and change to it.\n",
    "\n",
    "```\n",
    "mkdir test\n",
    "cd test\n",
    "```\n",
    "\n",
    "* Open the directory in a new window.\n",
    "  - Mac: `open .`\n",
    "  - Windows: `explorer .`\n",
    "  - Linux: `nautilus .`\n"
   ]
  },
  {
   "cell_type": "markdown",
   "metadata": {
    "slideshow": {
     "slide_type": "slide"
    }
   },
   "source": [
    "# Starting with Git (Part 2 of 2)\n",
    "\n",
    "* Make this directory a git repo.\n",
    "\n",
    "```\n",
    "git init\n",
    "```\n",
    "\n",
    "* Should see something like this\n",
    "\n",
    "```\n",
    "Initialized empty Git repository in /Users/kirkhamj/test/.git/\n",
    "```\n",
    "\n",
    "* Open gitk. (Should be empty)\n",
    "\n",
    "```\n",
    "gitk --all &\n",
    "```\n",
    "\n",
    "* Try getting the repo status.\n",
    "\n",
    "```\n",
    "git status\n",
    "```\n",
    "\n",
    "* Should see something like the following.\n",
    "\n",
    "```\n",
    "# On branch master\n",
    "#\n",
    "# Initial commit\n",
    "#\n",
    "nothing to commit (create/copy files and use \"git add\" to track)\n",
    "```\n",
    "\n",
    "* This is what we call a clean repo. Note we default to the master branch."
   ]
  },
  {
   "cell_type": "markdown",
   "metadata": {
    "slideshow": {
     "slide_type": "slide"
    }
   },
   "source": [
    "# What is essential about Git?\n",
    "\n",
    "* ~~Locality – Works on our computer w/o web.~~\n",
    "* Integrity – All changes are tracked.\n",
    "* Branching – Multiple storylines.\n",
    "* Distribution – Can share our work with others."
   ]
  },
  {
   "cell_type": "markdown",
   "metadata": {
    "slideshow": {
     "slide_type": "slide"
    }
   },
   "source": [
    "# Example working with files in Git (Part 1 of 5)\n",
    "\n",
    "* Create an empty file for use with git.\n",
    "\n",
    "```\n",
    "touch test1.txt\n",
    "```\n",
    "\n",
    "* See what changed in git.\n",
    "\n",
    "```\n",
    "git status\n",
    "```\n",
    "\n",
    "* Should look like this\n",
    "\n",
    "```\n",
    "# On branch master\n",
    "#\n",
    "# Initial commit\n",
    "#\n",
    "# Untracked files:\n",
    "#   (use \"git add <file>...\" to include in what will be committed)\n",
    "#\n",
    "#\ttest1.txt\n",
    "nothing added to commit but untracked files present (use \"git add\" to track)\n",
    "```\n",
    "\n",
    "* No longer a clean repo. Note that we haven’t told it which files to track so it won’t notice any changes to them."
   ]
  },
  {
   "cell_type": "markdown",
   "metadata": {
    "slideshow": {
     "slide_type": "subslide"
    }
   },
   "source": [
    "![file_lifecycle_0](./images/file_lifecycle_0.svg)"
   ]
  },
  {
   "cell_type": "markdown",
   "metadata": {
    "slideshow": {
     "slide_type": "slide"
    }
   },
   "source": [
    "# Example working with files in Git (Part 2 of 5)\n",
    "\n",
    "* Add one file to be tracked like so.\n",
    "\n",
    "```\n",
    "git add test1.txt\n",
    "```\n",
    "\n",
    "* See what changed.\n",
    "\n",
    "```\n",
    "git status\n",
    "```\n",
    "\n",
    "* Should look like this.\n",
    "\n",
    "```\n",
    "# On branch master\n",
    "#\n",
    "# Initial commit\n",
    "#\n",
    "# Changes to be committed:\n",
    "#   (use \"git rm --cached <file>...\" to unstage)\n",
    "#\n",
    "#\tnew file:   test1.txt\n",
    "```\n",
    "\n",
    "* We have now added a file to the staging area."
   ]
  },
  {
   "cell_type": "markdown",
   "metadata": {
    "collapsed": true,
    "slideshow": {
     "slide_type": "subslide"
    }
   },
   "source": [
    "![file_lifecycle_1](./images/file_lifecycle_1.svg)"
   ]
  }
 ],
 "metadata": {
  "celltoolbar": "Slideshow",
  "kernelspec": {
   "display_name": "Python 2",
   "language": "python",
   "name": "python2"
  },
  "language_info": {
   "codemirror_mode": {
    "name": "ipython",
    "version": 2
   },
   "file_extension": ".py",
   "mimetype": "text/x-python",
   "name": "python",
   "nbconvert_exporter": "python",
   "pygments_lexer": "ipython2",
   "version": "2.7.10"
  }
 },
 "nbformat": 4,
 "nbformat_minor": 0
}
